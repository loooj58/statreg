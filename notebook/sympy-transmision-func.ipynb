{
 "cells": [
  {
   "cell_type": "code",
   "execution_count": null,
   "metadata": {},
   "outputs": [],
   "source": [
    "%matplotlib nbagg\n",
    "from sympy import *\n",
    "import numpy as np\n",
    "import scipy as sp\n",
    "import scipy.special as spc\n",
    "import matplotlib.pyplot as plt\n",
    "init_printing()"
   ]
  },
  {
   "cell_type": "markdown",
   "metadata": {},
   "source": [
    "# Вывод полной аппартной функции для Троицк ν-Mass\n",
    "\n",
    "Полная аппаратная функция является свёрткой функции пропускания спектрометра:\n",
    "\n",
    "$$\n",
    "R(E,U) = \\left\\{\n",
    "\\begin{aligned}\n",
    "&0& E < U\\\\\n",
    "&1 & E > U+\\Delta\\\\\n",
    "&(E - U) / \\Delta \\qquad& \\mbox{otherwise} \\\\\n",
    "\\end{aligned}\n",
    "\\right.\n",
    "$$\n",
    "\n",
    "и конечной ширины спектра электронов вылетающих из пушки являющихся нормальным. Так как конволюция коммутирует с трансляцией мы будем рассматривать случай $U=0$. Таким образом нам надо вычислить интеграл\n",
    "\n",
    "$$\n",
    "\\int_{-\\infty}^{\\infty}dx\\, R(x,0) N_{(0,\\sigma)}(E-x) = \n",
    "\\int_{-\\infty}^{\\infty}dx\\, R(x,0) N_{(E,\\sigma)}(x) \n",
    "$$\n",
    "\n",
    "Интеграл распадается на два интеграла\n",
    "\n",
    "$$\n",
    "\\int_{\\Delta}^{\\infty}dx\\, N_{(E,\\sigma)}(x) +\n",
    "\\int_{0}^{\\Delta}dx\\, x \\cdot N_{(E,\\sigma)}(x) \n",
    "$$"
   ]
  },
  {
   "cell_type": "code",
   "execution_count": null,
   "metadata": {},
   "outputs": [],
   "source": [
    "# Введём переменные\n",
    "x,y,z,U,E,A,B  = symbols('x y z U E A B', real=True)\n",
    "mu     = symbols('mu',    real=True)\n",
    "sigma  = symbols('sigma', real=True, positive=True)\n",
    "Delta  = symbols('Delta', real=True, positive=True)"
   ]
  },
  {
   "cell_type": "code",
   "execution_count": null,
   "metadata": {},
   "outputs": [],
   "source": [
    "def gaus(mu,sigma,x) :\n",
    "    return 1 / (sqrt(2*pi) * sigma) * exp( -(x-mu)**2 / (2*sigma**2))"
   ]
  },
  {
   "cell_type": "markdown",
   "metadata": {},
   "source": [
    "# Первое слагаемое\n",
    "\n",
    "$$\n",
    "\\int_{\\Delta}^{\\infty}dx\\, N_{(E,\\sigma)}(x)\n",
    "$$"
   ]
  },
  {
   "cell_type": "code",
   "execution_count": null,
   "metadata": {},
   "outputs": [],
   "source": [
    "i_part1 = Integral(gaus(E,sigma,x), (x,Delta,oo))\n",
    "i_part1"
   ]
  },
  {
   "cell_type": "code",
   "execution_count": null,
   "metadata": {},
   "outputs": [],
   "source": [
    "i_part1_r = i_part1.transform(x/sigma, y).transform(y - E/sigma, z).doit()\n",
    "i_part1_r"
   ]
  },
  {
   "cell_type": "markdown",
   "metadata": {},
   "source": [
    "sympy туповат, досчитаем руками"
   ]
  },
  {
   "cell_type": "code",
   "execution_count": null,
   "metadata": {},
   "outputs": [],
   "source": [
    "simplify(i_part1_r)"
   ]
  },
  {
   "cell_type": "code",
   "execution_count": null,
   "metadata": {},
   "outputs": [],
   "source": [
    "part1 = factor(integrate( 1/ sqrt(2*pi) * exp(-x**2/2), (x,(Delta-E)/sigma,oo)))\n",
    "part1"
   ]
  },
  {
   "cell_type": "markdown",
   "metadata": {},
   "source": [
    "Получаем выражение:\n",
    "\n",
    "$$\n",
    "\\frac{1}{2} \\operatorname{erfc}(\\frac{\\Delta-E}{\\sqrt{2}\\sigma})\n",
    "$$"
   ]
  },
  {
   "cell_type": "markdown",
   "metadata": {},
   "source": [
    "# Второе слагаемое\n",
    "\n",
    "$$\n",
    "\\int_{-\\infty}^{\\infty}dx\\, R(x,0) N_{(E,\\sigma)}(x) \n",
    "$$"
   ]
  },
  {
   "cell_type": "code",
   "execution_count": null,
   "metadata": {},
   "outputs": [],
   "source": [
    "i_part2 = Integral( x / Delta * gaus(E,sigma,x), (x,0,Delta))\n",
    "i_part2"
   ]
  },
  {
   "cell_type": "code",
   "execution_count": null,
   "metadata": {},
   "outputs": [],
   "source": [
    "i_part2_1 = simplify( i_part2.transform(x/sigma, y).transform(y-E/sigma, z) )\n",
    "i_part2_1"
   ]
  },
  {
   "cell_type": "code",
   "execution_count": null,
   "metadata": {},
   "outputs": [],
   "source": [
    "i_part2_2 = simplify(i_part2_1.doit())\n",
    "print(i_part2_2)\n",
    "i_part2_2"
   ]
  },
  {
   "cell_type": "code",
   "execution_count": null,
   "metadata": {},
   "outputs": [],
   "source": [
    "factor( E*erf(sqrt(2)*E/(2*sigma))/(2*Delta) + E*erf(sqrt(2)*Delta/(2*sigma) - sqrt(2)*E/(2*sigma))/(2*Delta) )"
   ]
  },
  {
   "cell_type": "code",
   "execution_count": null,
   "metadata": {},
   "outputs": [],
   "source": [
    "r = factor( sqrt(2)*sigma*exp(-E**2/(2*sigma**2))/(2*sqrt(pi)*Delta) - sqrt(2)*sigma*exp(-(Delta - E)**2/(2*sigma**2))/(2*sqrt(pi)*Delta) )\n",
    "print(r)\n",
    "r"
   ]
  },
  {
   "cell_type": "code",
   "execution_count": null,
   "metadata": {},
   "outputs": [],
   "source": [
    "simplify( sqrt(2)*sigma*exp(-Delta**2/(2*sigma**2))*exp(-E**2/(2*sigma**2))*exp(Delta*E/sigma**2)/(2*sqrt(pi)*Delta) )"
   ]
  },
  {
   "cell_type": "markdown",
   "metadata": {},
   "source": [
    "Итого мы получаем сумму следующих выражений:\n",
    "\n",
    "$$\n",
    "\\frac{E}{2\\Delta}\\left[\n",
    "   \\operatorname{erf}\\left(\\frac{E}{\\sqrt{2}\\sigma}\\right)\n",
    " + \\operatorname{erf}\\left(\\frac{\\Delta-E}{\\sqrt{2}\\sigma}\\right)\n",
    "\\right]\n",
    "$$\n",
    "\n",
    "и\n",
    "\n",
    "$$\n",
    "\\frac{\\sigma}{\\sqrt{2\\pi}\\Delta}\\exp\\left(-\\frac{(E-\\Delta)^2}{2\\sigma^2}\\right)\n",
    "\\left[\n",
    "  \\exp\\left(\\frac{\\Delta^2-\\Delta E}{2\\sigma^2}\\right) - 1\n",
    "\\right]\n",
    "$$"
   ]
  },
  {
   "cell_type": "markdown",
   "metadata": {},
   "source": [
    "# Численная формула\n",
    "\n",
    "Теперь надо перевести формулы в численный код на numpy."
   ]
  },
  {
   "cell_type": "code",
   "execution_count": null,
   "metadata": {},
   "outputs": [],
   "source": [
    "valDelta = 0.35\n",
    "valSigma = 0.27179"
   ]
  },
  {
   "cell_type": "markdown",
   "metadata": {},
   "source": [
    "Построим сначала графики для аналитического решения:"
   ]
  },
  {
   "cell_type": "code",
   "execution_count": null,
   "metadata": {},
   "outputs": [],
   "source": [
    "r  = (part1 + i_part2_2).subs(Delta,valDelta).subs(sigma,valSigma)\n",
    "r1 = (part1).subs(Delta,valDelta).subs(sigma,valSigma)\n",
    "r2 = (i_part2_2).subs(Delta,valDelta).subs(sigma,valSigma)\n",
    "r3 = (E*erf(sqrt(2)*E/(2*sigma))/(2*Delta) + E*erf(sqrt(2)*Delta/(2*sigma) - sqrt(2)*E/(2*sigma))/(2*Delta)).subs(Delta,valDelta).subs(sigma,valSigma)\n",
    "r4 = (- sqrt(2)*sigma*exp(-(Delta - E)**2/(2*sigma**2))/(2*sqrt(pi)*Delta) + sqrt(2)*sigma*exp(-E**2/(2*sigma**2))/(2*sqrt(pi)*Delta)).subs(Delta,valDelta).subs(sigma,valSigma)\n",
    "#\n",
    "xs = np.linspace(-1,1,100)\n",
    "ys = [N(r.subs(E,x_)) for x_ in xs]\n",
    "#\n",
    "plt.figure()\n",
    "plt.grid()\n",
    "plt.plot(xs,ys)\n",
    "plt.plot(xs, [N(r1.subs(E,x_)) for x_ in xs])\n",
    "plt.plot(xs, [N(r2.subs(E,x_)) for x_ in xs] )\n",
    "plt.plot(xs, [N(r3.subs(E,x_)) for x_ in xs] )\n",
    "plt.plot(xs, [N(r4.subs(E,x_)) for x_ in xs] )\n",
    "None"
   ]
  },
  {
   "cell_type": "markdown",
   "metadata": {},
   "source": [
    "И для численного"
   ]
  },
  {
   "cell_type": "code",
   "execution_count": null,
   "metadata": {},
   "outputs": [],
   "source": [
    "def fun_part1(delta,sig,e) :\n",
    "    denom = np.sqrt(2) * sig\n",
    "    return spc.erfc((delta-e) / denom) / 2\n",
    "def fun_part2(delta,sig,e) :\n",
    "    denom = np.sqrt(2) * sig\n",
    "    return e / (2*delta) * (spc.erf(e/denom) + spc.erf((delta-e)/denom))\n",
    "def fun_part3(delta,sig,e) :\n",
    "    denom2 = 2 * sig**2\n",
    "    return ( sig/(np.sqrt(2*np.pi)*delta) \n",
    "           * (np.exp( -e**2 / denom2) - np.exp( -(e-delta)**2 / denom2 ))\n",
    "           )"
   ]
  },
  {
   "cell_type": "code",
   "execution_count": null,
   "metadata": {},
   "outputs": [],
   "source": [
    "xs = np.linspace(-1,1,100)\n",
    "valDelta = 0.35\n",
    "valSigma = 0.27179\n",
    "#\n",
    "plt.figure()\n",
    "plt.grid()\n",
    "plt.plot([xs[0],0,valDelta,xs[-1]], [0,0,1,1])\n",
    "plt.plot(xs, fun_part1(valDelta,valSigma,xs))\n",
    "plt.plot(xs, fun_part2(valDelta,valSigma,xs))\n",
    "plt.plot(xs, fun_part3(valDelta,valSigma,xs))\n",
    "plt.plot(xs, fun_part1(valDelta,valSigma,xs)+fun_part2(valDelta,valSigma,xs)+fun_part3(valDelta,valSigma,xs))\n",
    "plt.plot(xs, fun_part2(valDelta,valSigma,xs)+fun_part3(valDelta,valSigma,xs))\n",
    "None"
   ]
  },
  {
   "cell_type": "code",
   "execution_count": null,
   "metadata": {},
   "outputs": [],
   "source": []
  }
 ],
 "metadata": {
  "kernelspec": {
   "display_name": "Python 3",
   "language": "python",
   "name": "python3"
  },
  "language_info": {
   "codemirror_mode": {
    "name": "ipython",
    "version": 3
   },
   "file_extension": ".py",
   "mimetype": "text/x-python",
   "name": "python",
   "nbconvert_exporter": "python",
   "pygments_lexer": "ipython3",
   "version": "3.6.5"
  }
 },
 "nbformat": 4,
 "nbformat_minor": 2
}
