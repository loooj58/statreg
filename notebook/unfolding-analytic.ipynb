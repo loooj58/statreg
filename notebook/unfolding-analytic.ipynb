{
 "cells": [
  {
   "cell_type": "markdown",
   "metadata": {},
   "source": [
    "# Аналитическая деконволюция данных для «Троицк ν-mass»\n"
   ]
  },
  {
   "cell_type": "code",
   "execution_count": null,
   "metadata": {},
   "outputs": [],
   "source": [
    "%matplotlib nbagg\n",
    "# Libraries\n",
    "import copy\n",
    "import scipy as sc\n",
    "import numpy as np\n",
    "from   numpy import exp, log, sqrt\n",
    "import matplotlib.pyplot as plt\n",
    "import matplotlib\n",
    "from   IPython.display import Markdown, display\n",
    "#\n",
    "\n",
    "from   repropy import Context, Meta, Tagged\n",
    "import analysis\n",
    "import analysis.plots as plot\n",
    "from analysis.numass.meta import *"
   ]
  },
  {
   "cell_type": "markdown",
   "metadata": {},
   "source": [
    "Описание анализа как метаданных"
   ]
  },
  {
   "cell_type": "code",
   "execution_count": null,
   "metadata": {},
   "outputs": [],
   "source": [
    "meta = Meta(\n",
    "    dataset = dataset_2011 + Meta(\n",
    "        drop_last=8,\n",
    "    ),\n",
    "    basis = Meta(\n",
    "        dirichletA = True,\n",
    "        dirichletB = True,\n",
    "        oversample = 2,\n",
    "    ),\n",
    "    transmission = 'linear',\n",
    "    omega = [\n",
    "        Tagged('OmegaIntSpec', deg=2, equalize=True),\n",
    "        #Tagged('OmegaBndSpec'),\n",
    "    ]\n",
    ")\n",
    "ctx = Context(meta, store_dir='../store')\n",
    "aa  = analysis.analytic.Analytic(ctx)\n",
    "None"
   ]
  },
  {
   "cell_type": "markdown",
   "metadata": {},
   "source": [
    "Графики"
   ]
  },
  {
   "cell_type": "code",
   "execution_count": null,
   "metadata": {},
   "outputs": [],
   "source": [
    "plot.plot_measurements(aa.unfold.value(), phi=aa.phi.value())\n",
    "plot.plot_deconvolved(aa.unfold.value(), aa.phi.value(), meta)\n",
    "plot.plot_deconvolved(aa.unfold.value(), aa.phi.value(), meta, xlim=(2,60))\n",
    "plot.plot_correlations_matrix(aa.phi.value().sig)\n",
    "plot.plot_alpha(aa.unfold.value(), aa.alpha.value())\n",
    "None"
   ]
  },
  {
   "cell_type": "markdown",
   "metadata": {},
   "source": [
    "# Игры с φ"
   ]
  },
  {
   "cell_type": "code",
   "execution_count": null,
   "metadata": {},
   "outputs": [],
   "source": [
    "xs  = np.linspace(3.3e-3, 13e-3, 50)\n",
    "# Estimates of alpha\n",
    "a0  = 6.857e-03\n",
    "s0  = 3e-3\n",
    "#\n",
    "sig = 3.4e-1\n",
    "mu  = np.log(a0) + sig**2\n",
    "print(mu,sig)\n",
    "d   = Lognorm(mu,sig)\n",
    "plot.plot_alpha(aa.unfold.value(), aa.alpha.value())\n",
    "plt.plot(xs, d.logpdf(xs) - d.logpdf(a0))\n",
    "#\n",
    "#sig = 1e-1\n",
    "#mu  = np.log(a0) + sig**2\n",
    "#d   = Lognorm(mu,sig)\n",
    "#plt.plot(xs, d.logpdf(xs) - 5)\n",
    "\n",
    "None"
   ]
  },
  {
   "cell_type": "code",
   "execution_count": null,
   "metadata": {},
   "outputs": [],
   "source": [
    "class Lognorm():\n",
    "    def __init__(self, mu, sig):\n",
    "        self.mu  = mu\n",
    "        self.sig = sig\n",
    "    \n",
    "    def logpdf(self, xs):\n",
    "        mu  = self.mu\n",
    "        sig = self.sig        \n",
    "        return - (np.log(xs) - mu)**2/(2*sig**2) - np.log(xs)\n",
    "    "
   ]
  },
  {
   "cell_type": "code",
   "execution_count": null,
   "metadata": {},
   "outputs": [],
   "source": [
    "from scipy.stats import lognorm"
   ]
  },
  {
   "cell_type": "code",
   "execution_count": null,
   "metadata": {},
   "outputs": [],
   "source": [
    "?lognorm"
   ]
  },
  {
   "cell_type": "code",
   "execution_count": null,
   "metadata": {},
   "outputs": [],
   "source": [
    "def lognorm_sig(s):\n",
    "    return (exp(s**2) - 1) * np.exp(2*log(a0) - s**2)"
   ]
  },
  {
   "cell_type": "code",
   "execution_count": null,
   "metadata": {},
   "outputs": [],
   "source": [
    "from scipy.optimize import ridder"
   ]
  },
  {
   "cell_type": "code",
   "execution_count": null,
   "metadata": {},
   "outputs": [],
   "source": [
    "ridder( lambda s: (exp(s**2) - 1) * np.exp(2*log(a0) - s**2) - s0, 1e-6, 1e2)"
   ]
  },
  {
   "cell_type": "code",
   "execution_count": null,
   "metadata": {},
   "outputs": [],
   "source": [
    "plt.figure()\n",
    "xs = np.logspace(-6, 1, 1000)\n",
    "plt.plot(xs, lognorm_sig(xs) - s0**2)\n",
    "plt.grid()\n",
    "plt.semilogx()"
   ]
  },
  {
   "cell_type": "code",
   "execution_count": null,
   "metadata": {},
   "outputs": [],
   "source": [
    "xs"
   ]
  },
  {
   "cell_type": "code",
   "execution_count": null,
   "metadata": {},
   "outputs": [],
   "source": [
    "np.log(a0)"
   ]
  },
  {
   "cell_type": "code",
   "execution_count": null,
   "metadata": {},
   "outputs": [],
   "source": []
  }
 ],
 "metadata": {
  "kernelspec": {
   "display_name": "Python 3",
   "language": "python",
   "name": "python3"
  },
  "language_info": {
   "codemirror_mode": {
    "name": "ipython",
    "version": 3
   },
   "file_extension": ".py",
   "mimetype": "text/x-python",
   "name": "python",
   "nbconvert_exporter": "python",
   "pygments_lexer": "ipython3",
   "version": "3.7.2"
  }
 },
 "nbformat": 4,
 "nbformat_minor": 2
}
