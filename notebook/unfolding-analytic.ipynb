{
 "cells": [
  {
   "cell_type": "markdown",
   "metadata": {},
   "source": [
    "# Аналитическая деконволюция данных для «Троицк ν-mass»\n"
   ]
  },
  {
   "cell_type": "code",
   "execution_count": null,
   "metadata": {},
   "outputs": [],
   "source": [
    "%matplotlib nbagg\n",
    "# Libraries\n",
    "import scipy as sc\n",
    "import numpy as np\n",
    "import matplotlib.pyplot as plt\n",
    "import matplotlib\n",
    "from   IPython.display import Markdown, display\n",
    "#\n",
    "\n",
    "from   repropy import Context, Meta\n",
    "import analysis\n",
    "import analysis.plots as plot\n",
    "from analysis.numass.meta import *"
   ]
  },
  {
   "cell_type": "markdown",
   "metadata": {},
   "source": [
    "Описание анализа как метаданных"
   ]
  },
  {
   "cell_type": "code",
   "execution_count": null,
   "metadata": {},
   "outputs": [],
   "source": [
    "meta = Meta(\n",
    "    dataset = dataset_2011 + Meta(\n",
    "        drop_last=8,\n",
    "    ),\n",
    "    basis = Meta(\n",
    "        dirichletA = False,\n",
    "        dirichletB = False,\n",
    "        oversample = 4,\n",
    "    ),\n",
    "    transmission = 'linear',\n",
    "    omega = [\n",
    "        Meta(kind='omega', deg=2, equalize=True),\n",
    "        Meta(kind='boundary', deg=2, equalize=True),\n",
    "    ]\n",
    ")\n",
    "ctx = Context(meta, store_dir='../store')\n",
    "## \n",
    "dat    = ctx.call( analysis.analytic.read_spectrum,\n",
    "                  meta_cheap=True, meta_path='dataset')\n",
    "basis  = ctx.call( analysis.analytic.make_basis, dat,\n",
    "                  meta_cheap=True, meta_path='basis')\n",
    "unfold = ctx.call( analysis.analytic.make_unfolding, basis, dat,\n",
    "                  )\n",
    "alpha  = ctx.call0( analysis.analytic.calc_alpha, unfold)\n",
    "phi    = ctx.call0( analysis.analytic.calc_deconvolve, unfold, alpha)\n",
    "None"
   ]
  },
  {
   "cell_type": "markdown",
   "metadata": {},
   "source": [
    "Графики"
   ]
  },
  {
   "cell_type": "code",
   "execution_count": null,
   "metadata": {},
   "outputs": [],
   "source": [
    "plot.plot_measurements(unfold.value(), phi=phi.value())\n",
    "plot.plot_deconvolved(unfold.value(), phi.value(), meta)\n",
    "plot.plot_deconvolved(unfold.value(), phi.value(), meta, xlim=(2,60))\n",
    "plot.plot_correlations_matrix(phi.value().sig)\n",
    "None"
   ]
  },
  {
   "cell_type": "code",
   "execution_count": null,
   "metadata": {},
   "outputs": [],
   "source": []
  }
 ],
 "metadata": {
  "kernelspec": {
   "display_name": "Python 3",
   "language": "python",
   "name": "python3"
  },
  "language_info": {
   "codemirror_mode": {
    "name": "ipython",
    "version": 3
   },
   "file_extension": ".py",
   "mimetype": "text/x-python",
   "name": "python",
   "nbconvert_exporter": "python",
   "pygments_lexer": "ipython3",
   "version": "3.7.2"
  }
 },
 "nbformat": 4,
 "nbformat_minor": 2
}
