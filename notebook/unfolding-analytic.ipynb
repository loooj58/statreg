{
 "cells": [
  {
   "cell_type": "markdown",
   "metadata": {},
   "source": [
    "# Аналитическая деконволюция данных для «Троицк ν-mass»\n"
   ]
  },
  {
   "cell_type": "code",
   "execution_count": null,
   "metadata": {},
   "outputs": [],
   "source": [
    "%matplotlib nbagg\n",
    "# Libraries\n",
    "import copy\n",
    "import scipy as sc\n",
    "import numpy as np\n",
    "from   numpy import exp, log, sqrt, expm1\n",
    "import matplotlib.pyplot as plt\n",
    "import matplotlib\n",
    "from   IPython.display import Markdown, display\n",
    "#\n",
    "\n",
    "from   repropy import Context, Meta, Tagged\n",
    "import analysis\n",
    "import analysis.plots as plot\n",
    "from analysis.numass.meta import *"
   ]
  },
  {
   "cell_type": "markdown",
   "metadata": {},
   "source": [
    "Описание анализа как метаданных"
   ]
  },
  {
   "cell_type": "code",
   "execution_count": null,
   "metadata": {},
   "outputs": [],
   "source": [
    "meta = Meta(\n",
    "    dataset = dataset_2011 + Meta(\n",
    "        drop_last=8,\n",
    "    ),\n",
    "    basis = Meta(\n",
    "        dirichletA = True,\n",
    "        dirichletB = True,\n",
    "        oversample = 2,\n",
    "    ),\n",
    "    transmission = 'linear',\n",
    "    omega = [\n",
    "        Tagged('OmegaIntSpec', deg=2, equalize=True),\n",
    "        #Tagged('OmegaBndSpec'),\n",
    "    ]\n",
    ")\n",
    "ctx = Context(meta, store_dir='../store')\n",
    "aa  = analysis.analytic.Analytic(ctx)\n",
    "aPosterior = analysis.analytic.AlphaPosterior(aa.unfold.value(), aa.alpha.value())\n",
    "None"
   ]
  },
  {
   "cell_type": "markdown",
   "metadata": {},
   "source": [
    "Графики"
   ]
  },
  {
   "cell_type": "code",
   "execution_count": null,
   "metadata": {},
   "outputs": [],
   "source": [
    "plot.plot_measurements(aa.unfold.value(), phi=aa.phi.value())\n",
    "plot.plot_deconvolved(aa.unfold.value(), aa.phi.value(), meta)\n",
    "plot.plot_deconvolved(aa.unfold.value(), aa.phi.value(), meta, xlim=(2,60))\n",
    "plot.plot_alpha(aa.unfold.value(), aPosterior, [aPosterior.lognormal(), aPosterior.lognormal(2)])\n",
    "None"
   ]
  },
  {
   "cell_type": "markdown",
   "metadata": {},
   "source": [
    "# Игры с φ"
   ]
  },
  {
   "cell_type": "code",
   "execution_count": null,
   "metadata": {},
   "outputs": [],
   "source": []
  }
 ],
 "metadata": {
  "kernelspec": {
   "display_name": "Python 3",
   "language": "python",
   "name": "python3"
  },
  "language_info": {
   "codemirror_mode": {
    "name": "ipython",
    "version": 3
   },
   "file_extension": ".py",
   "mimetype": "text/x-python",
   "name": "python",
   "nbconvert_exporter": "python",
   "pygments_lexer": "ipython3",
   "version": "3.7.2"
  }
 },
 "nbformat": 4,
 "nbformat_minor": 2
}
