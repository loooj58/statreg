{
 "cells": [
  {
   "cell_type": "code",
   "execution_count": null,
   "metadata": {},
   "outputs": [],
   "source": [
    "%matplotlib nbagg\n",
    "# Libraries\n",
    "import scipy as sc\n",
    "from   scipy.special import erf, erfc\n",
    "import numpy as np\n",
    "import matplotlib.pyplot as plt\n",
    "import matplotlib\n",
    "# Local libs\n",
    "import unfolding as lib\n",
    "import numass\n",
    "import numass.plots as plot\n",
    "from   numass.metadata import *\n",
    "import meta"
   ]
  },
  {
   "cell_type": "markdown",
   "metadata": {},
   "source": [
    "Проверка того, что коректно реализованы аппаратные функции"
   ]
  },
  {
   "cell_type": "code",
   "execution_count": null,
   "metadata": {},
   "outputs": [],
   "source": [
    "trL = numass.utils.transmissionLinear(1.9e-5)\n",
    "trF = numass.utils.tranmissionConvolved(1.9e-5, 0.27179)\n",
    "\n",
    "xs = np.linspace(18698, 18702, 500)\n",
    "plt.figure()\n",
    "plt.grid()\n",
    "plt.plot(xs, [trL(x, 18700) for x in xs])\n",
    "plt.plot(xs, [trF(x, 18700) for x in xs])\n",
    "None"
   ]
  },
  {
   "cell_type": "code",
   "execution_count": null,
   "metadata": {},
   "outputs": [],
   "source": []
  }
 ],
 "metadata": {
  "kernelspec": {
   "display_name": "Python 3",
   "language": "python",
   "name": "python3"
  },
  "language_info": {
   "codemirror_mode": {
    "name": "ipython",
    "version": 3
   },
   "file_extension": ".py",
   "mimetype": "text/x-python",
   "name": "python",
   "nbconvert_exporter": "python",
   "pygments_lexer": "ipython3",
   "version": "3.7.2"
  }
 },
 "nbformat": 4,
 "nbformat_minor": 2
}
