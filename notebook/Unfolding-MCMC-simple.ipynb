{
 "cells": [
  {
   "cell_type": "code",
   "execution_count": null,
   "metadata": {},
   "outputs": [],
   "source": [
    "%matplotlib nbagg\n",
    "# Libraries\n",
    "import scipy as sc\n",
    "import numpy as np\n",
    "import pymc3 as pm\n",
    "import matplotlib.pyplot as plt\n",
    "import matplotlib\n",
    "from   IPython.display import Markdown, display\n",
    "#\n",
    "from   repropy import Context, Meta, Tagged\n",
    "import analysis\n",
    "import analysis.plots as plot\n",
    "from analysis.numass.meta import *\n",
    "#\n",
    "import unfolding as lib"
   ]
  },
  {
   "cell_type": "code",
   "execution_count": null,
   "metadata": {},
   "outputs": [],
   "source": [
    "meta = Meta(\n",
    "    dataset = dataset_2011 + Meta(\n",
    "        drop_last=8,\n",
    "    ),\n",
    "    basis = Meta(\n",
    "        oversample = 2,\n",
    "    ),\n",
    "    transmission = 'linear',\n",
    "    omega        = [Tagged('OmegaIntSpec', deg=2, equalize=True)],\n",
    ")\n",
    "ctx = Context(meta, store_dir='../store')\n",
    "aa  = analysis.analytic.Analytic(ctx)\n",
    "aPosterior = analysis.analytic.AlphaPosterior(aa.unfold.value(), aa.alpha.value())"
   ]
  },
  {
   "cell_type": "markdown",
   "metadata": {},
   "source": [
    "# Simple model without constraints"
   ]
  },
  {
   "cell_type": "code",
   "execution_count": null,
   "metadata": {},
   "outputs": [],
   "source": [
    "model = pm.Model()\n",
    "with model :\n",
    "    # --------------------------------------\n",
    "    # Regularization strength\n",
    "    # --------------------------------------\n",
    "    # alpha = pm.HalfFlat('alpha')   \n",
    "    alphaLN = aPosterior.lognormal(scale=3)\n",
    "    alpha   = pm.Lognormal('alpha', mu=alphaLN.mu, sd=alphaLN.sig)\n",
    "    # --------------------------------------\n",
    "    # φ\n",
    "    # --------------------------------------\n",
    "    nPhi  = len(aa.basis.value())\n",
    "    om    = aa.unfold.value().omegas[0].mat\n",
    "    chol  = np.linalg.cholesky(np.linalg.inv(om))\n",
    "    phi   = pm.MvNormal('phi',\n",
    "                        mu    = np.zeros(nPhi),\n",
    "                        chol  = chol/np.sqrt(alpha),\n",
    "                        shape = nPhi\n",
    "                       )\n",
    "    # --------------------------------------\n",
    "    # Experimental data\n",
    "    # --------------------------------------\n",
    "    f     = pm.Normal('f', \n",
    "                      mu       = pm.math.dot(aa.unfold.value().K, phi),\n",
    "                      sd       = aa.dat.value()['err'].values, \n",
    "                      shape    = len(aa.dat.value()),\n",
    "                      observed = aa.dat.value()['cnt'].values,\n",
    "                     )"
   ]
  },
  {
   "cell_type": "code",
   "execution_count": null,
   "metadata": {},
   "outputs": [],
   "source": [
    "with model :\n",
    "    trace = pm.sample(draws=1000, cores=8)"
   ]
  },
  {
   "cell_type": "code",
   "execution_count": null,
   "metadata": {},
   "outputs": [],
   "source": [
    "pm.summary(trace).round(3)"
   ]
  },
  {
   "cell_type": "code",
   "execution_count": null,
   "metadata": {},
   "outputs": [],
   "source": [
    "pm.traceplot(trace)\n",
    "None"
   ]
  },
  {
   "cell_type": "code",
   "execution_count": null,
   "metadata": {},
   "outputs": [],
   "source": [
    "fig = plot.plot_alpha(aa.unfold.value(), aPosterior)\n",
    "dens,bins = np.histogram(trace['alpha'], bins=50, density=True)\n",
    "dens = np.log(dens)\n",
    "dens = dens - np.max(dens)\n",
    "fig.axes[0].set_ylim((-2, 0.1))\n",
    "plt.bar(x=bins[1:], height=dens+2, width=np.diff(bins), bottom=-2, align=\"edge\", fc=(0.1,0.1,0.8,0.3))\n",
    "plt.semilogx()\n",
    "None"
   ]
  },
  {
   "cell_type": "code",
   "execution_count": null,
   "metadata": {},
   "outputs": [],
   "source": [
    "plot.plot_measurements_mcmc(aa, trace)"
   ]
  },
  {
   "cell_type": "code",
   "execution_count": null,
   "metadata": {},
   "outputs": [],
   "source": [
    "plot.plot_deconvolved_mcmc(aa, trace)\n",
    "None"
   ]
  },
  {
   "cell_type": "code",
   "execution_count": null,
   "metadata": {},
   "outputs": [],
   "source": [
    "plot.plot_correlations_matrix( np.cov(trace['phi'], rowvar=False))\n",
    "None"
   ]
  },
  {
   "cell_type": "code",
   "execution_count": null,
   "metadata": {},
   "outputs": [],
   "source": []
  }
 ],
 "metadata": {
  "kernelspec": {
   "display_name": "Python 3",
   "language": "python",
   "name": "python3"
  },
  "language_info": {
   "codemirror_mode": {
    "name": "ipython",
    "version": 3
   },
   "file_extension": ".py",
   "mimetype": "text/x-python",
   "name": "python",
   "nbconvert_exporter": "python",
   "pygments_lexer": "ipython3",
   "version": "3.7.2"
  }
 },
 "nbformat": 4,
 "nbformat_minor": 2
}
