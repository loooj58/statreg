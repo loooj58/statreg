{
 "cells": [
  {
   "cell_type": "code",
   "execution_count": null,
   "metadata": {},
   "outputs": [],
   "source": [
    "%matplotlib nbagg\n",
    "# Libraries\n",
    "import scipy as sc\n",
    "import numpy as np\n",
    "import pymc3 as pm\n",
    "import matplotlib.pyplot as plt\n",
    "import matplotlib\n",
    "from   IPython.display import Markdown, display\n",
    "#\n",
    "from   repropy import Context, Meta, Tagged\n",
    "import analysis\n",
    "import analysis.plots as plot\n",
    "from analysis.numass.meta import *\n",
    "#\n",
    "import unfolding as lib"
   ]
  },
  {
   "cell_type": "code",
   "execution_count": null,
   "metadata": {},
   "outputs": [],
   "source": [
    "meta = Meta(\n",
    "    dataset = dataset_2011 + Meta(\n",
    "        drop_last=8,\n",
    "    ),\n",
    "    basis = Meta(\n",
    "        oversample = 2,\n",
    "    ),\n",
    "    transmission = 'linear',\n",
    "    omega        = [Tagged('OmegaIntSpec', deg=2, equalize=True)],\n",
    "    # --\n",
    "    mcmc = Meta(\n",
    "        phiPrior   = \"positive\",\n",
    "#        phiPrior   = \"any\",\n",
    "#        alphaPrior = None,\n",
    "#        alphaPrior = 0.00625226,\n",
    "        alphaPrior = 0.00625226**2,\n",
    "        SEED   = 34552,\n",
    "        nCores = 8,\n",
    "        draws  = 4000,      \n",
    "    )\n",
    ")\n",
    "ctx = Context(meta, store_dir='../store')\n",
    "am  = analysis.mcmc.MCMC(ctx)\n",
    "aa  = am.aa\n",
    "aPosterior = aa.aPost.value()"
   ]
  },
  {
   "cell_type": "markdown",
   "metadata": {},
   "source": [
    "# Model with positivity"
   ]
  },
  {
   "cell_type": "code",
   "execution_count": null,
   "metadata": {},
   "outputs": [],
   "source": [
    "MAP   = am.MAP.value()\n",
    "trace = am.trace.value()"
   ]
  },
  {
   "cell_type": "code",
   "execution_count": null,
   "metadata": {},
   "outputs": [],
   "source": [
    "pm.summary(trace).round(3)"
   ]
  },
  {
   "cell_type": "code",
   "execution_count": null,
   "metadata": {},
   "outputs": [],
   "source": [
    "pm.traceplot(trace)\n",
    "None"
   ]
  },
  {
   "cell_type": "code",
   "execution_count": null,
   "metadata": {},
   "outputs": [],
   "source": [
    "fig = plot.plot_alpha(aa.unfold.value(), aPosterior)\n",
    "dens,bins = np.histogram(trace['alpha'], bins=200, density=True)\n",
    "dens = np.log(dens)\n",
    "dens = dens - np.max(dens)\n",
    "fig.axes[0].set_ylim((-2, 0.1))\n",
    "plt.bar(x=bins[:-1], height=dens+2, width=np.diff(bins), bottom=-2, align=\"edge\", fc=(0.1,0.1,0.8,0.3))\n",
    "plt.semilogx()\n",
    "None"
   ]
  },
  {
   "cell_type": "code",
   "execution_count": null,
   "metadata": {},
   "outputs": [],
   "source": [
    "plot.plot_measurements_mcmc(aa, trace)"
   ]
  },
  {
   "cell_type": "code",
   "execution_count": null,
   "metadata": {},
   "outputs": [],
   "source": [
    "fig = plot.plot_deconvolved_mcmc(aa, trace, xlim=(0,60))\n",
    "None"
   ]
  },
  {
   "cell_type": "code",
   "execution_count": null,
   "metadata": {},
   "outputs": [],
   "source": [
    "plot.plot_correlations_matrix( np.cov(trace['phi'], rowvar=False))"
   ]
  },
  {
   "cell_type": "code",
   "execution_count": null,
   "metadata": {},
   "outputs": [],
   "source": [
    "fig.savefig('MCMC-deconvolved.svg')"
   ]
  },
  {
   "cell_type": "code",
   "execution_count": null,
   "metadata": {},
   "outputs": [],
   "source": [
    "v = np.average(trace['phi'], axis=0)\n",
    "#v = MAP['phi']\n",
    "np.dot(np.dot(v, aa.unfold.value().omegas[0].mat),v)"
   ]
  },
  {
   "cell_type": "code",
   "execution_count": null,
   "metadata": {},
   "outputs": [],
   "source": [
    "plot.plot_deconvolved_mcmc(aa, trace, xlim=(0,60))\n",
    "plot.plot_deconvolved_mcmc(aa, {'phi':[MAP['phi']]}, only_mean=True, add=False, colstr='k')\n",
    "plt.grid()\n",
    "None"
   ]
  },
  {
   "cell_type": "code",
   "execution_count": null,
   "metadata": {},
   "outputs": [],
   "source": [
    "for i in trace['phi']:\n",
    "    print(len(i))\n",
    "    break"
   ]
  },
  {
   "cell_type": "code",
   "execution_count": null,
   "metadata": {},
   "outputs": [],
   "source": [
    "def plot_deconvolved_mcmc2(aa, trace,  xlim=None, ylim=None):\n",
    "    basis = aa.basis.value()\n",
    "    vs   = np.linspace(aa.dat.value()['vs'].values[0], aa.dat.value()['vs'].values[-1], 500)\n",
    "    # mean value\n",
    "    coef = np.average(trace['phi'], axis=0)\n",
    "    phi  = lib.PhiVec(coef, basis)\n",
    "    ys   = phi(vs)\n",
    "    # calculate quantiles    \n",
    "    bVals = [aa.basis.value()[i](vs) for i in range(len(aa.basis.value()))]\n",
    "    bVals = np.asarray(bVals)\n",
    "    quant = np.quantile(np.dot(trace['phi'], bVals), [0.16, 0.84], axis=0)\n",
    "    yLow  = quant[0]\n",
    "    yHi   = quant[1]\n",
    "    #\n",
    "    fig = plt.figure()\n",
    "    plt.grid()\n",
    "    gunE = aa.dat.meta().el_gun_E\n",
    "    plt.plot(gunE - vs, ys, 'r')\n",
    "    plt.plot(gunE - aa.dat.value()['vs'].values, phi(aa.dat.value()['vs'].values), 'g.')\n",
    "    plt.fill_between(gunE - vs, yLow, yHi, color='b', alpha=0.5)  \n",
    "    if xlim is not None:\n",
    "        fig.axes[0].set_xlim(xlim)\n",
    "        if ylim is None:\n",
    "            x1,x2 = xlim\n",
    "            idx   = ((gunE - vs) >= x1) & ((gunE - vs) <= x2)\n",
    "            y1    = np.min(np.asarray(yLow)[idx])\n",
    "            y2    = np.max(np.asarray(yHi)[idx])\n",
    "            delta = (y2 - y1) * 0.05\n",
    "            ylim  = (y1 - delta, y2 + delta)\n",
    "    if ylim is not None:\n",
    "        fig.axes[0].set_ylim(ylim)\n",
    "    return fig\n",
    "\n",
    "#\n",
    "fig = plot_deconvolved_mcmc2(aa, trace, xlim=(0,12))\n",
    "None"
   ]
  },
  {
   "cell_type": "code",
   "execution_count": null,
   "metadata": {},
   "outputs": [],
   "source": [
    "plt.title('Deconvosution without positivity')"
   ]
  },
  {
   "cell_type": "code",
   "execution_count": null,
   "metadata": {},
   "outputs": [],
   "source": [
    "fig.savefig(\"MCMC-any-zoom.svg\")"
   ]
  },
  {
   "cell_type": "markdown",
   "metadata": {},
   "source": [
    "Оценки негладкости функции"
   ]
  },
  {
   "cell_type": "code",
   "execution_count": null,
   "metadata": {},
   "outputs": [],
   "source": [
    "om  = aa.unfold.value().omegas[0].mat\n",
    "np.dot(np.dot( trace['phi'], om), trace['phi'].T).shape\n",
    "oms = np.sum(np.dot(trace['phi'], om) * trace['phi'], axis=1)\n",
    "\n",
    "plt.figure()\n",
    "plt.hist(oms, bins=200)\n",
    "None"
   ]
  },
  {
   "cell_type": "code",
   "execution_count": null,
   "metadata": {},
   "outputs": [],
   "source": [
    "fig = plt.figure()\n",
    "plt.hist(trace['phi'][:,90], bins=100 )\n",
    "plt.grid()\n",
    "plt.title(\"Distribution of φ[i]\")\n",
    "#fig = plt.figure()\n",
    "#plt.hist( )\n",
    "fig.savefig(\"MCMC-phi-apost.svg\")\n",
    "None"
   ]
  },
  {
   "cell_type": "code",
   "execution_count": null,
   "metadata": {},
   "outputs": [],
   "source": []
  }
 ],
 "metadata": {
  "kernelspec": {
   "display_name": "Python 3",
   "language": "python",
   "name": "python3"
  },
  "language_info": {
   "codemirror_mode": {
    "name": "ipython",
    "version": 3
   },
   "file_extension": ".py",
   "mimetype": "text/x-python",
   "name": "python",
   "nbconvert_exporter": "python",
   "pygments_lexer": "ipython3",
   "version": "3.7.2"
  }
 },
 "nbformat": 4,
 "nbformat_minor": 2
}
