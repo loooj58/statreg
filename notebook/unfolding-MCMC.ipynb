{
 "cells": [
  {
   "cell_type": "code",
   "execution_count": null,
   "metadata": {},
   "outputs": [],
   "source": [
    "%matplotlib nbagg\n",
    "# Libraries\n",
    "import scipy as sc\n",
    "import numpy as np\n",
    "import pymc3 as pm\n",
    "import matplotlib.pyplot as plt\n",
    "import matplotlib\n",
    "from   IPython.display import Markdown, display\n",
    "#\n",
    "from   repropy import Context, Meta\n",
    "import analysis\n",
    "import analysis.plots as plot\n",
    "from analysis.numass.meta import *\n",
    "#\n",
    "import unfolding as lib"
   ]
  },
  {
   "cell_type": "code",
   "execution_count": null,
   "metadata": {},
   "outputs": [],
   "source": [
    "meta = Meta(\n",
    "    dataset = dataset_2011 + Meta(\n",
    "        drop_last=8,\n",
    "    ),\n",
    "    basis = Meta(\n",
    "        oversample = 2,\n",
    "    ),\n",
    "    transmission = 'linear',\n",
    "    omega = [\n",
    "        Meta(kind='omega', deg=2, equalize=True),\n",
    "    ],\n",
    ")\n",
    "ctx = Context(meta, store_dir='../store')\n",
    "aa  = analysis.analytic.Analytic(ctx)"
   ]
  },
  {
   "cell_type": "markdown",
   "metadata": {},
   "source": [
    "# Standard model"
   ]
  },
  {
   "cell_type": "code",
   "execution_count": null,
   "metadata": {},
   "outputs": [],
   "source": [
    "model = pm.Model()\n",
    "with model :\n",
    "    # Smoothness parameter\n",
    "    #alpha = pm.HalfFlat('alpha')\n",
    "    # alpha = pm.Lognormal('alpha', mu=-4.86688525067991, sd=3.5e-1)\n",
    "    # phi\n",
    "    nPhi  = len(aa.basis.value())\n",
    "    om    = aa.unfold.value().omegas[0].mat\n",
    "    chol  = np.linalg.cholesky(np.linalg.inv(om))\n",
    "    phi   = pm.MvNormal('phi',\n",
    "                        mu=np.zeros(nPhi),\n",
    "                        chol = chol/alpha,\n",
    "                        shape=nPhi\n",
    "                       )\n",
    "    # f\n",
    "    f     = pm.Normal('f', \n",
    "                      mu = pm.math.dot(aa.unfold.value().K, phi),\n",
    "                      sd = aa.dat.value()['err'].values, \n",
    "                      shape=len(aa.dat.value()),\n",
    "                      observed=aa.dat.value()['cnt'].values,\n",
    "                     )"
   ]
  },
  {
   "cell_type": "code",
   "execution_count": null,
   "metadata": {},
   "outputs": [],
   "source": [
    "#SEED = 383561\n",
    "#np.random.seed(SEED)\n",
    "with model :\n",
    "    trace4 = pm.sample(draws=1000, cores=8)"
   ]
  },
  {
   "cell_type": "code",
   "execution_count": null,
   "metadata": {},
   "outputs": [],
   "source": [
    "def plot_deconvolved_mcmc(res, only_mean=False, add=True) :\n",
    "    \"Plot deconvolved function and pointwise errors\"\n",
    "    vs  = np.linspace(aa.dat.value()['vs'].values[0], aa.dat.value()['vs'].values[-1], 500)\n",
    "    phi = lib.PhiVec(np.average(res['phi'], axis=0), aa.basis.value(), np.cov(res['phi'], rowvar=False))\n",
    "    ys = phi(vs)\n",
    "    dy = np.asarray([phi.error(v) for v in vs])\n",
    "    #\n",
    "    if add :\n",
    "        fig = plt.figure()\n",
    "        plt.title('Deconvolution result')\n",
    "    plt.plot(18700 - vs, ys, 'r')\n",
    "    if not only_mean :\n",
    "        plt.plot(18700 - aa.dat.value()['vs'].values, phi(aa.dat.value()['vs'].values), 'g.')\n",
    "        plt.fill_between(18700 - vs, ys-dy, ys+dy, color='b', alpha=0.5)        \n",
    "    plt.grid()\n",
    "plot_deconvolved_mcmc(trace4)\n",
    "#plot_deconvolved(r)"
   ]
  },
  {
   "cell_type": "code",
   "execution_count": null,
   "metadata": {},
   "outputs": [],
   "source": [
    "plot.plot_correlations_matrix( np.cov(trace4['phi'], rowvar=False))\n",
    "#plt.matshow(np.cov(trace['phi'], rowvar=False))\n",
    "#plt.colorbar()"
   ]
  },
  {
   "cell_type": "code",
   "execution_count": null,
   "metadata": {},
   "outputs": [],
   "source": [
    "pm.summary(trace4).round(3)"
   ]
  },
  {
   "cell_type": "code",
   "execution_count": null,
   "metadata": {},
   "outputs": [],
   "source": [
    "pm.traceplot(trace4)\n",
    "None"
   ]
  },
  {
   "cell_type": "code",
   "execution_count": null,
   "metadata": {},
   "outputs": [],
   "source": [
    "pm.plot_posterior(trace4)\n",
    "None"
   ]
  },
  {
   "cell_type": "code",
   "execution_count": null,
   "metadata": {},
   "outputs": [],
   "source": [
    "plt.figure(figsize=(8, 60))\n",
    "pm.forestplot(trace4)\n",
    "None"
   ]
  },
  {
   "cell_type": "code",
   "execution_count": null,
   "metadata": {},
   "outputs": [],
   "source": [
    "pm.autocorrplot(trace4)\n",
    "None"
   ]
  },
  {
   "cell_type": "code",
   "execution_count": null,
   "metadata": {},
   "outputs": [],
   "source": [
    "pm.densityplot(trace4)\n",
    "None"
   ]
  },
  {
   "cell_type": "markdown",
   "metadata": {},
   "source": [
    "# Positive-constrained"
   ]
  },
  {
   "cell_type": "code",
   "execution_count": null,
   "metadata": {},
   "outputs": [],
   "source": [
    "modelP = pm.Model()\n",
    "with modelP :\n",
    "    # Smoothness parameter\n",
    "    #alpha = pm.HalfFlat('alpha')\n",
    "    #alpha = aa.alpha.value()\n",
    "    alpha = pm.Lognormal('alpha', mu=-4.90, sd=3.4e-2)\n",
    "    # phi\n",
    "    nPhi = len(aa.basis.value())\n",
    "    chol = np.linalg.cholesky( np.linalg.inv(aa.basis.value().omega(2)))\n",
    "    low  = np.repeat(0, nPhi)\n",
    "    phi  = pm.Bound(pm.MvNormal, lower=low)('phi',\n",
    "                        mu=np.zeros(nPhi),\n",
    "                        #cov = alpha*basis.value().omega(2),\n",
    "                        chol = chol/alpha,\n",
    "                        shape=nPhi\n",
    "                       )\n",
    "    # f\n",
    "    f     = pm.Normal('f', \n",
    "                      mu = pm.math.dot(aa.unfold.value().K, phi),\n",
    "                      sd = aa.dat.value()['err'].values, \n",
    "                      shape=len(aa.dat.value()),\n",
    "                      observed=aa.dat.value()['cnt'].values,\n",
    "                     )"
   ]
  },
  {
   "cell_type": "code",
   "execution_count": null,
   "metadata": {},
   "outputs": [],
   "source": [
    "with modelP :\n",
    "    # start = pm.find_MAP()\n",
    "    traceP = pm.sample(draws=1000, cores=8, tune=1000)"
   ]
  },
  {
   "cell_type": "code",
   "execution_count": null,
   "metadata": {},
   "outputs": [],
   "source": [
    "pm.summary(traceP).round(3)"
   ]
  },
  {
   "cell_type": "code",
   "execution_count": null,
   "metadata": {},
   "outputs": [],
   "source": [
    "plot_deconvolved_mcmc(traceP)"
   ]
  },
  {
   "cell_type": "code",
   "execution_count": null,
   "metadata": {},
   "outputs": [],
   "source": [
    "plot.plot_correlations_matrix( np.cov(traceP['phi'], rowvar=False))"
   ]
  },
  {
   "cell_type": "code",
   "execution_count": null,
   "metadata": {},
   "outputs": [],
   "source": [
    "pm.traceplot(traceP)\n",
    "None"
   ]
  },
  {
   "cell_type": "code",
   "execution_count": null,
   "metadata": {},
   "outputs": [],
   "source": [
    "pm.plot_posterior(traceP)\n",
    "None"
   ]
  },
  {
   "cell_type": "code",
   "execution_count": null,
   "metadata": {},
   "outputs": [],
   "source": []
  }
 ],
 "metadata": {
  "kernelspec": {
   "display_name": "Python 3",
   "language": "python",
   "name": "python3"
  },
  "language_info": {
   "codemirror_mode": {
    "name": "ipython",
    "version": 3
   },
   "file_extension": ".py",
   "mimetype": "text/x-python",
   "name": "python",
   "nbconvert_exporter": "python",
   "pygments_lexer": "ipython3",
   "version": "3.7.2"
  }
 },
 "nbformat": 4,
 "nbformat_minor": 2
}
