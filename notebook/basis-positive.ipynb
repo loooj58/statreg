{
 "cells": [
  {
   "cell_type": "markdown",
   "metadata": {},
   "source": [
    "# Неотрицательные функции в базисе сплайнов"
   ]
  },
  {
   "cell_type": "code",
   "execution_count": null,
   "metadata": {},
   "outputs": [],
   "source": [
    "%matplotlib nbagg\n",
    "# Libraries\n",
    "import scipy as sc\n",
    "import numpy as np\n",
    "import matplotlib.pyplot as plt\n",
    "import matplotlib\n",
    "from   matplotlib.font_manager import FontProperties\n",
    "# Local libs\n",
    "import unfolding.basis as lib\n",
    "from unfolding.deconvolution import null_space"
   ]
  },
  {
   "cell_type": "markdown",
   "metadata": {},
   "source": [
    "Очевидно, что всякая функция в со всеми неотрицательными коэффициентами будет неотрицательной. К сожалению обратное неверно:"
   ]
  },
  {
   "cell_type": "code",
   "execution_count": null,
   "metadata": {},
   "outputs": [],
   "source": [
    "def plot_spline(basis, d) :\n",
    "    a,b = basis.support\n",
    "    xs  = np.linspace(a, b, 500)\n",
    "    cs  = np.zeros(len(basis))\n",
    "    cs[4] = 1\n",
    "    cs[5] = d\n",
    "    cs[6] = 1\n",
    "    #\n",
    "    plt.figure()\n",
    "    plt.grid()\n",
    "    plt.plot(xs, basis(cs,xs))\n",
    "    \n",
    "bas = lib.CubicSplines(np.linspace(0,1,11), None)\n",
    "plot_spline(bas,-0)\n",
    "plt.plot(np.linspace(0,1,11), np.zeros(11),'r+')"
   ]
  },
  {
   "cell_type": "code",
   "execution_count": null,
   "metadata": {},
   "outputs": [],
   "source": [
    "def plot_spline_basis(basis, title='', deg=0) :\n",
    "    a,b = basis.support\n",
    "    xs  = np.linspace(a, b, 500)\n",
    "    #\n",
    "    plt.figure()\n",
    "    plt.title(title)\n",
    "    plt.grid()\n",
    "    for f in basis.basisFun :\n",
    "        plt.plot(xs, f.derivative(deg)(xs))\n",
    "#        \n",
    "plot_spline_basis(bas, deg=0)\n",
    "plot_spline_basis(bas, deg=1)"
   ]
  },
  {
   "cell_type": "code",
   "execution_count": null,
   "metadata": {},
   "outputs": [],
   "source": [
    "no"
   ]
  },
  {
   "cell_type": "code",
   "execution_count": null,
   "metadata": {},
   "outputs": [],
   "source": [
    "q = bas[0]\n",
    "q.c"
   ]
  },
  {
   "cell_type": "code",
   "execution_count": null,
   "metadata": {},
   "outputs": [],
   "source": [
    "q.derivative(1).c"
   ]
  },
  {
   "cell_type": "code",
   "execution_count": null,
   "metadata": {},
   "outputs": [],
   "source": [
    "for c in range(3) :\n",
    "    print(bas[0].derivative(2).c[c])"
   ]
  },
  {
   "cell_type": "code",
   "execution_count": null,
   "metadata": {},
   "outputs": [],
   "source": [
    "q."
   ]
  },
  {
   "cell_type": "code",
   "execution_count": null,
   "metadata": {},
   "outputs": [],
   "source": []
  }
 ],
 "metadata": {
  "kernelspec": {
   "display_name": "Python 3",
   "language": "python",
   "name": "python3"
  },
  "language_info": {
   "codemirror_mode": {
    "name": "ipython",
    "version": 3
   },
   "file_extension": ".py",
   "mimetype": "text/x-python",
   "name": "python",
   "nbconvert_exporter": "python",
   "pygments_lexer": "ipython3",
   "version": "3.7.2"
  }
 },
 "nbformat": 4,
 "nbformat_minor": 2
}
