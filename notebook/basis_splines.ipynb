{
 "cells": [
  {
   "cell_type": "markdown",
   "metadata": {},
   "source": [
    "# Изучение базиса и матрицы Ω"
   ]
  },
  {
   "cell_type": "code",
   "execution_count": null,
   "metadata": {},
   "outputs": [],
   "source": [
    "%matplotlib nbagg\n",
    "# Libraries\n",
    "import scipy as sc\n",
    "import numpy as np\n",
    "import matplotlib.pyplot as plt\n",
    "import matplotlib\n",
    "from   matplotlib.font_manager import FontProperties\n",
    "# Local libs\n",
    "import unfolding.basis as lib\n",
    "from unfolding.deconvolution import null_space"
   ]
  },
  {
   "cell_type": "code",
   "execution_count": null,
   "metadata": {},
   "outputs": [],
   "source": [
    "def plot_basis_functions(basis, title='') :\n",
    "    a,b = basis.support\n",
    "    xs  = np.linspace(a, b, 500)\n",
    "    #\n",
    "    plt.figure()\n",
    "    plt.title(title)\n",
    "    plt.grid()\n",
    "    for f in basis.basisFun :\n",
    "        plt.plot(xs, f(xs))"
   ]
  },
  {
   "cell_type": "markdown",
   "metadata": {},
   "source": [
    "# Сплайновый базис в зависимости от гранусловий"
   ]
  },
  {
   "cell_type": "code",
   "execution_count": null,
   "metadata": {},
   "outputs": [],
   "source": [
    "basis_  = lib.CubicSplines(np.linspace(0,1, 50), None)\n",
    "basisA  = lib.CubicSplines(np.linspace(0,1, 50), (\"dirichlet\",None))\n",
    "basisB  = lib.CubicSplines(np.linspace(0,1, 50), (None,\"dirichlet\"))\n",
    "basisAB = lib.CubicSplines(np.linspace(0,1, 50), \"dirichlet\")"
   ]
  },
  {
   "cell_type": "code",
   "execution_count": null,
   "metadata": {},
   "outputs": [],
   "source": [
    "def plot_spline_basis(basis, title='') :\n",
    "    a,b = basis.support\n",
    "    xs  = np.linspace(a, b, 500)\n",
    "    #\n",
    "    plt.figure()\n",
    "    plt.title(title)\n",
    "    plt.grid()\n",
    "    for f in basis.basisFun :\n",
    "        plt.plot(xs, f(xs))\n",
    "\n",
    "plot_spline_basis(basis_,  title='Free')\n",
    "plot_spline_basis(basisA,  title='Dirichlet A')\n",
    "plot_spline_basis(basisB,  title='Dirichlet B')\n",
    "plot_spline_basis(basisAB, title='Dirichlet AB')"
   ]
  },
  {
   "cell_type": "markdown",
   "metadata": {},
   "source": [
    "Визуализация матрицы Ω в зависимости от гранусловий"
   ]
  },
  {
   "cell_type": "code",
   "execution_count": null,
   "metadata": {},
   "outputs": [],
   "source": [
    "def plot_Omega(basis, deg=2, title='') :\n",
    "    rng = np.max(np.abs(basis.omega(deg)))\n",
    "    plt.matshow(basis.omega(deg), vmin=-rng, vmax=rng, cmap=matplotlib.cm.RdYlBu)\n",
    "    plt.title(title)\n",
    "    plt.colorbar()\n",
    "\n",
    "plot_Omega(basis_,  title='Free')\n",
    "plot_Omega(basisA,  title='Dirichlet A')\n",
    "plot_Omega(basisB,  title='Dirichlet B')\n",
    "plot_Omega(basisAB, title='Dirichlet AB')"
   ]
  },
  {
   "cell_type": "code",
   "execution_count": null,
   "metadata": {},
   "outputs": [],
   "source": [
    "def eigvals_plot(title, bases, deg):\n",
    "    # Set up figure\n",
    "    fig = plt.figure(figsize=[9, 4.8])\n",
    "    ax  = plt.subplot(111)\n",
    "    box = ax.get_position()\n",
    "    ax.set_position([box.x0, box.y0, box.width * 0.8, box.height])\n",
    "    # Plot eigenvalues for every plot\n",
    "    plt.semilogy()\n",
    "    #plt.semilogx()\n",
    "    plt.grid()\n",
    "    plt.title(title)\n",
    "    for b,nm in bases:\n",
    "        m = b.omega(deg)\n",
    "        evals = np.flip( np.sort( np.linalg.eigvals(m) ), 0 )\n",
    "        #evals = np.sort( np.linalg.eigvals(m) )\n",
    "        plt.plot(abs(evals), '+--', label=nm)        \n",
    "    # Legend\n",
    "    fontP = FontProperties()\n",
    "    fontP.set_size('small')\n",
    "    ax.legend(loc='center left', bbox_to_anchor=(1, 0.5), prop=fontP)\n",
    "\n",
    "#---\n",
    "bases = [\n",
    "    (basis_, \"Free\"),\n",
    "    (basisA, 'Dirichlet A'),\n",
    "    (basisB, 'Dirichlet B'),\n",
    "    (basisAB, 'Dirichlet AB'),\n",
    "]\n",
    "eigvals_plot(u'Eigenvalues of Ω[2]', bases=bases, deg=2)\n",
    "eigvals_plot(u'Eigenvalues of Ω[1]', bases=bases, deg=1)\n",
    "eigvals_plot(u'Eigenvalues of Ω[0]', bases=bases, deg=0)"
   ]
  },
  {
   "cell_type": "markdown",
   "metadata": {},
   "source": [
    "# Набор собственных векторов"
   ]
  },
  {
   "cell_type": "code",
   "execution_count": null,
   "metadata": {},
   "outputs": [],
   "source": [
    "def plot_eigvals(bas,deg=2):\n",
    "    omega = bas.omega(deg)\n",
    "    ev,evec = np.linalg.eig(omega)\n",
    "    a,b = bas.support\n",
    "    xs  = np.linspace(a, b, 500) \n",
    "    for v,vec in sorted(zip(list(ev), list(np.transpose(evec))), reverse=True):\n",
    "        plt.figure()\n",
    "        plt.grid()\n",
    "        plt.title(str(v))\n",
    "        plt.plot(xs, bas(vec, xs))\n",
    "\n",
    "plot_eigvals(basis_)\n",
    "None"
   ]
  },
  {
   "cell_type": "markdown",
   "metadata": {},
   "source": [
    "# Поиск ядра регуляризующей матрицы"
   ]
  },
  {
   "cell_type": "code",
   "execution_count": null,
   "metadata": {},
   "outputs": [],
   "source": [
    "def plot_null_space(basis, deg=2, title='', eps=1e-12) :\n",
    "    a,b    = basis.support\n",
    "    xs     = np.linspace(a, b, 500)\n",
    "    #\n",
    "    plt.figure()\n",
    "    plt.title(title)\n",
    "    plt.grid()\n",
    "    for coef in null_space(basis.omega(deg), eps).transpose() :\n",
    "        plt.plot(xs, basis(coef, xs))\n",
    "    plt.plot([a,b], [0,0], 'k--')"
   ]
  },
  {
   "cell_type": "code",
   "execution_count": null,
   "metadata": {},
   "outputs": [],
   "source": [
    "plot_null_space(basis_,  title=\"Free Ω[2]\")\n",
    "plot_null_space(basisA,  title=\"Dirichlet A Ω[2]\")\n",
    "plot_null_space(basisB,  title=\"Dirichlet B Ω[2]\")\n",
    "plot_null_space(basisAB, title=\"Dirichlet AB Ω[2]\")"
   ]
  },
  {
   "cell_type": "code",
   "execution_count": null,
   "metadata": {},
   "outputs": [],
   "source": []
  }
 ],
 "metadata": {
  "kernelspec": {
   "display_name": "Python 3",
   "language": "python",
   "name": "python3"
  },
  "language_info": {
   "codemirror_mode": {
    "name": "ipython",
    "version": 3
   },
   "file_extension": ".py",
   "mimetype": "text/x-python",
   "name": "python",
   "nbconvert_exporter": "python",
   "pygments_lexer": "ipython3",
   "version": "3.7.2"
  }
 },
 "nbformat": 4,
 "nbformat_minor": 2
}
